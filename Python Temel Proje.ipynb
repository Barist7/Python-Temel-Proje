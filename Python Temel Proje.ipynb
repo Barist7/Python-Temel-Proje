{
 "cells": [
  {
   "cell_type": "code",
   "execution_count": 42,
   "metadata": {},
   "outputs": [],
   "source": [
    "flat_list = []\n",
    "def flatten(l):   \n",
    "    \"\"\"\n",
    "     loops through the elements of the list, if the element is a list, calls it function again(recursive),\n",
    "     otherwise adds the element to the list\n",
    "    \"\"\"\n",
    "    for i in l:      \n",
    "        if type(i) == list:\n",
    "            flatten(i)\n",
    "        else:\n",
    "            flat_list.append(i)\n",
    "        \n",
    "    return flat_list\n",
    "\n"
   ]
  },
  {
   "cell_type": "code",
   "execution_count": 43,
   "metadata": {},
   "outputs": [],
   "source": [
    "x = [[1,'a',['cat'],2],[[[3]],'dog'],4,5]"
   ]
  },
  {
   "cell_type": "code",
   "execution_count": 44,
   "metadata": {
    "scrolled": true
   },
   "outputs": [],
   "source": [
    "flatten(x)"
   ]
  },
  {
   "cell_type": "code",
   "execution_count": 48,
   "metadata": {},
   "outputs": [],
   "source": [
    "def rev(l):\n",
    "    \"\"\"\n",
    "    loops through the elements of the list, if the element is a list, \n",
    "    it reverses the list, lastly, it reverses the whole list\n",
    "    \"\"\"\n",
    "    for i in l:\n",
    "        if type(i) == list:\n",
    "            i.reverse()\n",
    "    l.reverse()\n",
    "    return l"
   ]
  },
  {
   "cell_type": "code",
   "execution_count": 49,
   "metadata": {},
   "outputs": [],
   "source": [
    "c = [[1, 2], [3, 4], [5, 6, 7]]\n"
   ]
  },
  {
   "cell_type": "code",
   "execution_count": 50,
   "metadata": {},
   "outputs": [
    {
     "data": {
      "text/plain": [
       "[[7, 6, 5], [4, 3], [2, 1]]"
      ]
     },
     "execution_count": 50,
     "metadata": {},
     "output_type": "execute_result"
    }
   ],
   "source": [
    "rev(c)"
   ]
  },
  {
   "cell_type": "code",
   "execution_count": null,
   "metadata": {},
   "outputs": [],
   "source": []
  }
 ],
 "metadata": {
  "kernelspec": {
   "display_name": "Python 3",
   "language": "python",
   "name": "python3"
  },
  "language_info": {
   "codemirror_mode": {
    "name": "ipython",
    "version": 3
   },
   "file_extension": ".py",
   "mimetype": "text/x-python",
   "name": "python",
   "nbconvert_exporter": "python",
   "pygments_lexer": "ipython3",
   "version": "3.7.4"
  }
 },
 "nbformat": 4,
 "nbformat_minor": 2
}
